{
 "cells": [
  {
   "cell_type": "code",
   "execution_count": 1,
   "metadata": {
    "collapsed": true,
    "jupyter": {
     "outputs_hidden": true
    }
   },
   "outputs": [],
   "source": [
    "# Notebook to test the classes and all. Just a rough cookbook\n",
    "\n",
    "import pandas as pd\n",
    "import numpy as np\n",
    "import matplotlib.pyplot as plt\n",
    "plt.style.use({'figure.facecolor':'white'})\n",
    "import seaborn as sb\n",
    "from tqdm import tqdm\n",
    "\n",
    "import torch as th\n",
    "import os\n",
    "import pyro\n",
    "import pyro.contrib.gp as gp\n",
    "import pyro.distributions as dist\n",
    "smoke_test = ('CI' in os.environ)\n",
    "pyro.set_rng_seed(0)\n",
    "\n",
    "from datetime import datetime\n",
    "\n",
    "import matplotlib as mpl\n",
    "from matplotlib import rc\n",
    "mpl.rcParams['font.family'] = ['times new roman'] # default is sans-serif\n",
    "rc('text', usetex=True)\n",
    "mpl.rcParams['text.latex.preamble']=[r\"\\usepackage{amsmath}\"]\n",
    "datetime = datetime.now().strftime(\"%Y_%m_%d-%I_%M_%S_%p\")\n",
    "%load_ext autoreload\n",
    "%autoreload 2"
   ]
  },
  {
   "cell_type": "code",
   "execution_count": 2,
   "metadata": {
    "collapsed": false,
    "jupyter": {
     "outputs_hidden": false
    },
    "pycharm": {
     "name": "#%%\n"
    }
   },
   "outputs": [],
   "source": [
    "def function(x):\n",
    "    \"\"\"\n",
    "    Fn with both local and global minimum. Forrester et al. (2008)\n",
    "    Parameters\n",
    "    ----------\n",
    "    x :\n",
    "\n",
    "    Returns\n",
    "    -------\n",
    "\n",
    "    \"\"\"\n",
    "    return (6 * x - 2)**2 * np.sin(12 * x - 4)"
   ]
  },
  {
   "cell_type": "code",
   "execution_count": 3,
   "metadata": {
    "collapsed": false,
    "jupyter": {
     "outputs_hidden": false
    },
    "pycharm": {
     "name": "#%%\n"
    }
   },
   "outputs": [],
   "source": [
    "def f_exact(eval_points):\n",
    "        \"\"\"\n",
    "        Wrapper around the exact function that prevents re-evaluation at a point\n",
    "\n",
    "        Parameters\n",
    "        ----------\n",
    "        eval_points : numpy.ndarray\n",
    "            Array of points at which the function needs to be evaluated\n",
    "\n",
    "        Returns\n",
    "        -------\n",
    "        Y : numpy.ndarray\n",
    "            Array of value of the function at the eval_points\n",
    "        \"\"\"\n",
    "        #X = np.atleast_2d(eval_points)\n",
    "        X = eval_points\n",
    "        Y = np.zeros((X.shape[0]))\n",
    "        for idx, x in enumerate(X):\n",
    "            key = tuple(x)\n",
    "            #if key in self.f_dict.keys():\n",
    "            #    Y[idx, 0] = self.f_dict[key]\n",
    "            #else:\n",
    "            Y[idx] = function(x)\n",
    "                #self.f_dict[key] = Y[idx, 0]\n",
    "        return Y\n"
   ]
  },
  {
   "cell_type": "code",
   "execution_count": 121,
   "metadata": {
    "collapsed": false,
    "jupyter": {
     "outputs_hidden": false
    },
    "pycharm": {
     "name": "#%%\n"
    }
   },
   "outputs": [],
   "source": [
    "def ARD(model,x):\n",
    "    \"\"\"\n",
    "    model : GPRegressopn object\n",
    "    \"\"\"\n",
    "    feature_space_input_dim = np.shape(x)[1]\n",
    "    model.kernel.lengthscale = pyro.nn.PyroSample(dist.InverseGamma(2*th.ones(feature_space_input_dim), 1.0).to_event())\n",
    "    model.kernel.variance = pyro.nn.PyroSample(dist.InverseGamma(2.0, 1.0))\n",
    "    #gpr.noise = pyro.nn.PyroSample(dist.Uniform(1.0, 30.0))\n",
    "    model.noise = pyro.nn.PyroSample(dist.InverseGamma(2.0, 1.0))"
   ]
  },
  {
   "cell_type": "code",
   "execution_count": 4,
   "metadata": {
    "collapsed": false,
    "jupyter": {
     "outputs_hidden": false
    },
    "pycharm": {
     "name": "#%%\n"
    }
   },
   "outputs": [],
   "source": [
    "def fit(eval_point):\n",
    "    \"\"\"\n",
    "\n",
    "    \"\"\"\n",
    "    eval_point = np.reshape(eval_point,(-1,1))\n",
    "    feature_space_input_dim = np.shape(eval_point)[1]\n",
    "    x = th.from_numpy(eval_point)\n",
    "    # defining the gp object\n",
    "\n",
    "    # TODO : Can use mattern52 kertnel also\n",
    "    # kernel = gp.kernels.RBF(input_dim=feature_space_input_dim, variance=th.tensor(1.),\n",
    "    #                         lengthscale=0.1*th.ones(feature_space_input_dim))\n",
    "\n",
    "    # computing the exact function value\n",
    "    y = f_exact(x)\n",
    "    gpr = gp.models.GPRegression(x, th.from_numpy(y), gp.kernels.Matern52(input_dim=1),noise=th.tensor(0.1), jitter=1.0e-4)\n",
    "    # Calling the ARD kernel\n",
    "    #ARD(gpr,x)\n",
    "\n",
    "    # learning\n",
    "    optimizer = th.optim.Adam(gpr.parameters(), lr=0.001)\n",
    "    loss = gp.util.train(gpr, optimizer)\n",
    "    return gpr,loss"
   ]
  },
  {
   "cell_type": "code",
   "execution_count": 5,
   "metadata": {
    "collapsed": false,
    "jupyter": {
     "outputs_hidden": false
    },
    "pycharm": {
     "name": "#%%\n"
    }
   },
   "outputs": [],
   "source": [
    "def predict(model, x):\n",
    "    \"\"\"\n",
    "\n",
    "    \"\"\"\n",
    "    x = np.reshape(x,(-1,1))\n",
    "    mean, cov = model(th.from_numpy(x), full_cov =False, noiseless = False) # Remove or include observational noise in prediction?\n",
    "\n",
    "    return mean, cov"
   ]
  },
  {
   "cell_type": "code",
   "execution_count": 129,
   "metadata": {
    "collapsed": false,
    "jupyter": {
     "outputs_hidden": false
    },
    "pycharm": {
     "name": "#%%\n"
    }
   },
   "outputs": [
    {
     "data": {
      "image/png": "[encoded data removed]",
      "text/plain": [
       "<Figure size 576x288 with 1 Axes>"
      ]
     },
     "metadata": {},
     "output_type": "display_data"
    }
   ],
   "source": [
    "## tests\n",
    "\n",
    "# Generating traini data\n",
    "\n",
    "x = np.linspace(0, 1,500)\n",
    "plt.figure(figsize=(8, 4))\n",
    "plt.plot(x, function(x))\n",
    "plt.show()"
   ]
  },
  {
   "cell_type": "code",
   "execution_count": 27,
   "metadata": {
    "collapsed": false,
    "jupyter": {
     "outputs_hidden": false
    },
    "pycharm": {
     "name": "#%%\n"
    }
   },
   "outputs": [],
   "source": [
    "X = th.tensor([0.0, 0.33,0.52310, 0.66,0.725, 1.0])\n",
    "gpr, loss = fit(X.numpy())"
   ]
  },
  {
   "cell_type": "code",
   "execution_count": 28,
   "metadata": {
    "collapsed": false,
    "jupyter": {
     "outputs_hidden": false
    },
    "pycharm": {
     "name": "#%%\n"
    }
   },
   "outputs": [],
   "source": [
    "Xnew = th.linspace(-0.1, 1.1,100)\n",
    "m, var = predict(gpr,Xnew.numpy())"
   ]
  },
  {
   "cell_type": "code",
   "execution_count": 29,
   "metadata": {
    "collapsed": false,
    "jupyter": {
     "outputs_hidden": false
    },
    "pycharm": {
     "name": "#%%\n"
    }
   },
   "outputs": [
    {
     "data": {
      "image/png": "[encoded data removed]",
      "text/plain": [
       "<Figure size 576x288 with 1 Axes>"
      ]
     },
     "metadata": {},
     "output_type": "display_data"
    }
   ],
   "source": [
    "plt.figure(figsize=(8, 4))\n",
    "with th.no_grad():\n",
    "    plt.plot(Xnew, m)\n",
    "    plt.plot(gpr.X.numpy(), gpr.y.numpy(), \"kx\")\n",
    "    sd = var.sqrt()\n",
    "    plt.fill_between(Xnew, m - 2*sd, m + 2*sd,\n",
    "                             color=\"C0\", alpha=0.3)  # plot uncertainty intervals\n",
    "    plt.show()"
   ]
  },
  {
   "cell_type": "code",
   "execution_count": 30,
   "metadata": {
    "collapsed": false,
    "jupyter": {
     "outputs_hidden": false
    },
    "pycharm": {
     "name": "#%%\n"
    }
   },
   "outputs": [
    {
     "data": {
      "image/png": "[encoded data removed]",
      "text/plain": [
       "<Figure size 432x288 with 1 Axes>"
      ]
     },
     "metadata": {},
     "output_type": "display_data"
    }
   ],
   "source": [
    "with th.no_grad():\n",
    "    plt.plot(m - 2* sd)"
   ]
  },
  {
   "cell_type": "code",
   "execution_count": 82,
   "metadata": {
    "collapsed": false,
    "jupyter": {
     "outputs_hidden": false
    },
    "pycharm": {
     "name": "#%%\n"
    }
   },
   "outputs": [
    {
     "data": {
      "text/plain": [
       "[<matplotlib.lines.Line2D at 0x7f2418304820>]"
      ]
     },
     "execution_count": 82,
     "metadata": {},
     "output_type": "execute_result"
    },
    {
     "data": {
      "image/png": "[encoded data removed]",
      "text/plain": [
       "<Figure size 432x288 with 1 Axes>"
      ]
     },
     "metadata": {
      "needs_background": "light"
     },
     "output_type": "display_data"
    }
   ],
   "source": [
    "plt.plot(grad)"
   ]
  },
  {
   "cell_type": "code",
   "execution_count": 12,
   "metadata": {
    "collapsed": false,
    "jupyter": {
     "outputs_hidden": false
    },
    "pycharm": {
     "name": "#%%\n"
    }
   },
   "outputs": [],
   "source": [
    "tmp = np.transpose(np.atleast_2d(x))"
   ]
  },
  {
   "cell_type": "code",
   "execution_count": 49,
   "metadata": {
    "collapsed": false,
    "jupyter": {
     "outputs_hidden": false
    },
    "pycharm": {
     "name": "#%%\n"
    }
   },
   "outputs": [],
   "source": [
    "x = np.reshape(x,(-1,1))"
   ]
  },
  {
   "cell_type": "code",
   "execution_count": 50,
   "metadata": {
    "collapsed": false,
    "jupyter": {
     "outputs_hidden": false
    },
    "pycharm": {
     "name": "#%%\n"
    }
   },
   "outputs": [
    {
     "data": {
      "text/plain": [
       "(100, 1)"
      ]
     },
     "execution_count": 50,
     "metadata": {},
     "output_type": "execute_result"
    }
   ],
   "source": [
    "x.shape"
   ]
  },
  {
   "cell_type": "markdown",
   "metadata": {
    "pycharm": {
     "name": "#%% md\n"
    }
   },
   "source": []
  }
 ],
 "metadata": {
  "kernelspec": {
   "display_name": "Python 3",
   "language": "python",
   "name": "python3"
  },
  "language_info": {
   "codemirror_mode": {
    "name": "ipython",
    "version": 3
   },
   "file_extension": ".py",
   "mimetype": "text/x-python",
   "name": "python",
   "nbconvert_exporter": "python",
   "pygments_lexer": "ipython3",
   "version": "3.8.2"
  }
 },
 "nbformat": 4,
 "nbformat_minor": 4
}
